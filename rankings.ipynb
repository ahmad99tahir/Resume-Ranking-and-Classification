{
 "cells": [
  {
   "cell_type": "code",
   "execution_count": 1,
   "metadata": {},
   "outputs": [],
   "source": [
    "from src.ranker import preprocess_data, compute_similarity, sort_resumes_by_similarity, print_top_n_resumes"
   ]
  },
  {
   "cell_type": "code",
   "execution_count": 2,
   "metadata": {},
   "outputs": [],
   "source": [
    "df = preprocess_data('resumes.csv')\n",
    "documents = df['cleaned_resume'].fillna('')"
   ]
  },
  {
   "cell_type": "code",
   "execution_count": 13,
   "metadata": {},
   "outputs": [],
   "source": [
    "#Java Developer\n",
    "keywords = [\"java\", \"spring\", \"hibernate\", \"maven\", \"J2EE\", \"SQL\", \"RESTful\", \"API\", \"JavaScript\", \"HTML\", \"CSS\", \"Git\", \"Experience 1 year\"]\n",
    "\n",
    "#Data Science\n",
    "#keywords = [\"Python\", \"R\", \"SQL\", \"Machine Learning\", \"Statistics\", \"Data Visualization\", \"Data Cleaning\", \"Data Mining\", \"Big Data\", \"Deep Learning\", \"Natural Language Processing (NLP)\", \"Time Series Analysis\", \"Cloud Computing\", \"Experiment Design\", \"Domain Knowledge\"]\n",
    "\n",
    "#Advocate\n",
    "advocate_job_keywords = [\"Legal Research\", \"Litigation\", \"Legal Writing\", \"Courtroom Advocacy\", \"Case Management\", \"Legal Analysis\", \"Client Counseling\", \"Legal Advice\", \"Negotiation\", \"Legal Documentation\", \"Trial Preparation\", \"Dispute Resolution\", \"Legal Representation\", \"Contract Law\", \"Civil Rights\", \"Criminal Law\", \"Family Law\", \"Corporate Law\", \"Regulatory Compliance\", \"Legal Ethics\"]\n"
   ]
  },
  {
   "cell_type": "code",
   "execution_count": 14,
   "metadata": {},
   "outputs": [
    {
     "name": "stdout",
     "output_type": "stream",
     "text": [
      "Top 10 ranked resumes:\n",
      "Rank 1: Resume Index: 70, Similarity Score: 0.08512030831273096\n",
      "Computer Skills Languages And Script JSP Servlet HTML CSS Java Script Jquery Ajax Spring Hibernate Operating System Microsoft Windows 2003 XP Vista 7 8 Databases My SQL Concepts OOPS Core java Advance java Development Tool Eclipse Net beans IDE Web Server Apache Tomcat 7 0Education Details January 2007 H S C Amravati Maharashtra VidyaBharati college January 2005 S S C Amravati Maharashtra Holy Cross English School Java Developer Java Developer Kunal IT Services Pvt Ltd Skill Details ECLIPSE Exprience Less than 1 year months JAVA Exprience 14 months HIBERNATE Exprience Less than 1 year months SPRING Exprience Less than 1 year months jQuery Exprience Less than 1 year monthsCompany Details company Kunal IT Services Pvt Ltd description Currently Working As Java Developer In Winsol Solution Pvt Ltd From 1 July 2017 To Till Date Experience Of 2 Yrs As A Java Developer In Kunal IT Services Pvt Ltd \n",
      "-------------------------------------\n",
      "Rank 2: Resume Index: 71, Similarity Score: 0.0841276468332522\n",
      "Education Details January 2016 B E Information Technology Pune Maharashtra Sawitribai Phule Pune University Java Developer Java Developer Vertical Software Skill Details Company Details company Vertical Software description Expertise in design and development of web applications using J2EE Servlets JSP JavaScript HTML CSS JQUERY AJAX JSON Experienced in developing applications using MVC architecture Good understanding of Software Development Life Cycle Phases such as Requirement gathering analysis design development and unit testing Languages open Source Java J2EE Spring Hibernate Frame Work Scripting Languages Server Java JSP Servlets DB Connectivity s Side Program JDBC JavaScript jQuery Ajax JSON Application Server TomCat Database MongoDB MySql IDEs Eclipse 1 Project Title Expense Ledger Role Java Developer Tools and Technologies Java Jsp Servlet MySql JavaScript Json Jquery Ajax 2 Project Title Trimurti Developer Realestate Role Java Developer Tools and Technologies Java Jsp Servlet MySql JavaScript Json Jquery Ajax 3 Project Title Vimay Enterprise Role Java Developer Tools and Technologies Java Jsp Spring Hibernate Maven Jquery Ajax company Higher Secondary School description Pune 58 8 \n",
      "-------------------------------------\n",
      "Rank 3: Resume Index: 68, Similarity Score: 0.08113438762140474\n",
      "TECHNICALSKILLS SpringMVC Hibernate JDBC Java J2EE AzureWeb SunTechnologies Services JSP Struts Servlet RestApi Scripting JavaScript AJAX HTML JSON OpenSourceTechnologies PHP Database MsSQL MySQL Oracle WebServers ApacheTomcatServer Internettechnologiesand OnesignalWebPushNotifications AzurewebServices frameworks IONIC HTML JSON OperatingSystem WindowsServer2012R2 WinXP 7 8 1 10 Linux Mac OS Education Details August 2013 to July 2016 BE Computer Engineering Nashik Maharashtra Late G N Sapkal COE Nashik July 2009 to June 2013 Diploma Computer technology Nashik Maharashtra K K Wagh Polytechnic Nashik Java developer Java Developer Skill Details AJAX Exprience 12 months DATABASE Exprience 24 months HTML Exprience 24 months J2EE Exprience 6 months JAVA Exprience 24 months Spring MVC Exprience 12 months Ionic 3 Exprience 6 months Angular JS Exprience 6 months Spring Exprience Less than 1 year months Java Exprience Less than 1 year monthsCompany Details company Replete business solutions pvt ltd description Working as Java developer in spring MVC MySQL MsSql Java J2EE Ajax Javascript ionic 3 framework angular js etc Technologies \n",
      "-------------------------------------\n",
      "Rank 4: Resume Index: 67, Similarity Score: 0.0726024139122405\n",
      "Education Details BE IT pjlce Java Developer Java Developer Skill Details c Exprience Less than 1 year months c Exprience Less than 1 year months JAVA Exprience Less than 1 year months DS Exprience Less than 1 year months Jdbc Exprience 24 months Hibernate Exprience Less than 1 year months Java J2Ee Exprience Less than 1 year months Javascript Exprience 6 months JQuery Exprience 6 months Ajax Exprience 6 monthsCompany Details company Almighty tech pvt ltd nagpur description 1 As a Java Developer ORGANISATION Almighty tech pvt ltd Nagpur DESIGNATION Java Developer DURATION From 1st jan 2018 Notice Period 15 days JOB RESPONSIBILITIES Resolve Bugs Develop project as per user requirement KNOWLEDGE ABOUT Programming language C C DS Java Swing JDBC J2EE java script jquery Ajax Ms office Excel \n",
      "-------------------------------------\n",
      "Rank 5: Resume Index: 72, Similarity Score: 0.06052874499554988\n",
      "TECHNICAL SKILLS Programming Languages Java Servlet JSP Spring Boot Web Technology HTML5 CSS3 Bootstrap JavaScript JQuery Ajax AngularJs Database MySQL IDE and Tool Eclipse spring tool Suit Net beans Sublime Text Atom Operating System Windows XP 7 8 10 ACHIEVEMENT Java Developer Certificate from Unanth Technical Institute Java Certificate from solo Learn Command line crash Course certificate from Udemy JOB DETAILS Education Details January 2018 M C A Pune Maharashtra Pune University January 2015 B C A Amravati Maharashtra Amravati University January 2012 H S C Amravati Maharashtra Amravati University January 2010 S S C Amravati Maharashtra Amravati University Java developer Full Stack Java Developer Skill Details Css Exprience Less than 1 year months Ajax Exprience Less than 1 year months Servlet Exprience Less than 1 year months Html5 Exprience Less than 1 year months Spring Exprience Less than 1 year months Java Exprience Less than 1 year months Jquery Exprience Less than 1 year months Jsp Exprience Less than 1 year months Javascript Exprience Less than 1 year months Bootstrap Exprience Less than 1 year months Spring Boot Exprience Less than 1 year monthsCompany Details company Salcluster technologies description Worked as java developer Developed 3 projects using java servlet jsp ajax and web technologies company Salcluster Technologies LLP description Technology Core Java Servlet and JSP HTML5 CSS3 Bootstrap Javascript Jquery Ajax and Bootstrap PROJECT DETAILS Title GST And Sales Billing Softwares Status Completed Duration 1 5 Months Abstract This is a Web application made by using Java Servlet and JSP JavaScript Jquery Ajax and MySQL on back end It is a client s website which is used for Billing It includes GST Billing Generate and print invoice It has five master pages and four common pages Masters include customer master item master uom master setup master reason master and common pages like sales order payments sales return and invoice Title Dinman News website Status Completed Duration 1 Months Abstract This is a Website project by using Java Servlet and JSP JavaScript Jquery Ajax and MySQL on back end It is a clients website It is used for displaying online video and text news Title Agri Management Website Status Completed Duration 1 5 Months Abstract This is a Website project by using Java Servlet and JSP JavaScript Jquery Ajax and MySQL on back end It is used for purchasing and selling vegetables all over india company OmegaSoft Technologies pvt ltd description Company Name OmegaSoft Technologies pvt ltd An ISO certified Company Duration 5 months Technology Java Spring Hibernate AngularJs Ajax KendoUI and BootStrap Architecture MVC Architecture and Service based Programming Project Module Login Registration and Role Assignment Payments INTERNSHIP PROJECT DETAILS Title Employment Times Status Completed Duration 4 Months Abstract This is a Website project using Java Spring Hibernate Angular Js Ajax and MySQL on back end It is a client s website which is used for posting of newspapers all over India It has 12 Modules In which it has Admin Panel E paper Posting Subscriptions and many more It is a very light weight website built by using MVC Architecture and Service based Architecture We can also post advertisements on website and share the news on Facebook or any other social media directly It has Payment module and users are able to make payments online through debit or credit card or E Wallet \n",
      "-------------------------------------\n",
      "Rank 6: Resume Index: 110, Similarity Score: 0.0601272001495458\n",
      "Software Proficiency Languages Basics of C SQL PL SQL JAVA JAVAEE Javascript HTML CSS jquery mysql Spring Hibernate Software Tools Xillinx Modelsim Matlab Multisim Operating Systems Windows XP Vista 07 08 Ubuntu Project Profile B E Project FPGA Implementation of Team Size 4 Role Programmer AES Algorithm AES is Advanced Encryption Standard which is used in cryptography by which we can protect our data It encrypted by a Secret Key T E project Sorting Robot Team Size 3 Role Mechanism designer The TCS 230 sensor sorts the RGB color balls a ording to their color Diploma Project RFID Based Student Team Size 4 Role Interface Attendance System Using GSM In this student show RFID card of his own and then message send via GSM to their parent that his ward is present Education Details May 2016 B E Savitribai Phule Pune Maharashtra Pune University March 2010 S S C Maharashtra Board DevOps Engineer Skill Details C Exprience 6 months C Exprience 6 months Sql Exprience 6 months Pl Sql Exprience 6 months Core Java Exprience 6 months Javascript Exprience Less than 1 year months HTML Exprience Less than 1 year months CSS Exprience Less than 1 year months Jquery Exprience Less than 1 year months JavaEE Exprience Less than 1 year months Mysql Exprience Less than 1 year months Python Exprience 6 monthsCompany Details company Parkar Consulting and Labs description I m working on the DevOps team in Parkar Consulting and Labs I have hands on the AWS as well as Python\n",
      "-------------------------------------\n",
      "Rank 7: Resume Index: 157, Similarity Score: 0.05458190241751574\n",
      "SOFTWARE SKILLS Languages C C java Operating Systems Windows XP 7 Ubuntu RDBMS Oracle SQL Database My SQL PostgreSQL Markup Scripting HTML JavaScript PHP CSS JQuery Angular js Framework Struts Hibernate spring MVC Web Server Tomcat and Glassfish Web Services REST AND SOAP TRAINING DETAIL Duration 4 months From United Telecommunication Limited Jharnet project Place Ranchi Jharkhand Networking Requirements Elementary configuration of router and switch IP and MAC addressing Lease Line OSI Layers Routing protocols Status Network Designer Education Details 2 High School Diploma Government Women Ranchi Jharkhand The Institution Blockchain Engineer Blockchain Engineer Auxledger Skill Details JAVA Exprience 19 months CSS Exprience 12 months HTML Exprience 12 months JAVASCRIPT Exprience 12 months C Exprience 6 monthsCompany Details company Auxledger description Worked with on lots of product on blockchain Bitcoin Build Wallet and explorer on Bitcoin Ethereum Build Wallet and explorer on ethereum blockchain Customize product on Ethereum Inventory system Build smart contract in solidity deployed in java byte code and on ethereum as well and I have written API in java spring on that and then build front end and called all Api Audit Logger I have audit logger for OTC exchange to keep all transaction record in blockchain DOC Safe on ethereum I have build an ethereum application to keep Documents safe on blockchain and document in encrypted form on server And explore with Litecoin Ripple exchange OTC P2P Hyperledger Fabric continue company description Worked with a USA team on blockchain on ethereum I have designed product on ethereum blockchain Setup private ethereum and bitcoin blockchain Worked on loyalty program system and HER System on ethereum network company ERP System CRM for Real Estate Company description At Lavisa Infrastructure Bangalore Sep 2015 Oct 2016 Software developer ERP System CRM for Real Estate Company company News Portal description On demand product development from client side requirement Like Dynamic website Content management system where I have designed front end with backend where content of website was manageable from admin panel News Portal News portal where content was in Hindi language I have used Html Css JavaScript JDBC MySQL data base Birthday Reminder A small web application for birthday reminder I have used HTMl CSS JavaScript JDBC MySQL DB Car parking System A web application for Management of Car Parking System I have used HTMl CSS JavaScript JDBC MySQL DB company Company portal for employee management for Inside Company description At United Telecom Limited Ranchi Nov 2013 Sep 2014 Web developer Company portal for employee management for Inside Company Onsite employee in different different district And management of all kind of government service like adhar card Birth certificate pan card tracker etc Technology skill Technology Blockchain Bitcoin Ethereum Ripple Hyperledger Fabric Block chain Private setup of blockchain Node building Smart Contract Solidity Language Smart Contract Api Java Spring Dapp Building Node js React js Express js\n",
      "-------------------------------------\n",
      "Rank 8: Resume Index: 63, Similarity Score: 0.05291130779941387\n",
      "Technical Skills Trained Project Acquired Skills Languages Known C C J2EE Spring Hibernate Testing Functional Testing Manual Testing Operating Systems Windows Linux Packages MS office Databases My SQL PostgreSQL Education Details January 2013 to January 2017 B E Computer Science and Engineering MNU University Jhulelal Institute of Technology January 2011 to January 2013 HSC Nagpur Maharashtra Maharashtra State Board Dayanand Arya Kanya Junior College January 2010 to January 2011 SSC Nagpur Maharashtra Maharashtra State Board Java Developer Java Developer Inouvelle Ventures Private Limited Skill Details J2EE Exprience 17 months C Exprience 6 months DATABASES Exprience 6 months FUNCTIONAL TESTING Exprience 6 months LINUX Exprience 6 monthsCompany Details company Inouvelle Ventures Private Limited description Nagpur 1 Project name Stock Management System December 2017 Till Date Language of implementation Angular Frontend JAVA J2EE spring Hibernate Framework Backend PostgresSql Database Role Java Developer Operating system Windows XP 07 08 Description Stock management System is Specially Developing for the Medicinal Market This software is developing to keep the track of medicines ailments surgical Equipments also to keep the track of Wholesalers Retailers Employees Customers of the Company Stock management system is the practice of ordering storing tracking and controlling inventory Debtor invoicing software helps small businesses and freelancers keep track of company assets Stock management may also be called stock control inventory management or inventory control company Inouvelle Ventures Private Limited description Project Profile company Inouvelle Ventures Private Limited description Language of implementation Angular Frontend JAVA J2EE spring Hibernate Framework Backend PostgresSql Database Role Java Developer Manual Testing Operating system Windows XP 07 08 Description This Project is done for the Oldest Printing Press in Nagpur The proposed web based Printing Press Management System designed a ording to user and system requirement to fulfil the existing problems This system offers the products and services that enhance organization growth efficiency and profitability \n",
      "-------------------------------------\n",
      "Rank 9: Resume Index: 69, Similarity Score: 0.05270557563098453\n",
      "Operating Systems Windows XP 7 10 Tools Packages Visual Basic 6 0 UML Packet Tracer Web technologies Core java Advance java JSP Hibernate Spring Languages known C C Databases SQL AREAS OF INTEREST Software Development Programming Academic Projects Details Diploma Title Banking Software Description We used GSM technology for transaction of message for a security purpose Environment OS Windows XP Technologies used frontend visual basic 6 0 Backend oracle 9i BE Title Single Sign On Description We have created single sign on mechanism for network security Environment OS Windows 7 Technologies Used Frontend java Backend Oracle 10g ME Title Text Based Graphical Password To Overcome Shoulder Surfing Attacks Description I have created a most secure password system using Random Printing Algo Environment OS Windows 10 Technologies used Frontend Java Backend MySQL Company Title Agriculture Management System Description Created Web application for Agriculture system and Farming Environment OS Windows 10 Technologies used Frontend Hibernate Backend MySQL Education Details June 2015 to February 2018 ME computers computer Pune Maharashtra Savitribai Phule Pune University June 2007 S S C Solapur Maharashtra Maharashtra Secondary Board Java Developer Java Developer Skill Details JAVA Exprience 6 months DATABASES Exprience 6 months Hibernate Exprience Less than 1 year months Jsp Exprience Less than 1 year months Servlet Exprience Less than 1 year monthsCompany Details company Maxgen Technologies Pvt Ltd description 1 Working as a java developer over Hibernate technology Developing web application using JSP servlet and hibernate company Prakshal IT academy description I was working as a trainer I have taught A N CCNA routing and switching \n",
      "-------------------------------------\n",
      "Rank 10: Resume Index: 147, Similarity Score: 0.05253539740027869\n",
      "TECHNICAL SKILLS Web Technologies ASP NET HTML CSS Jquery Languages C C C MVC 5 Database SQL SERVER 2005 2008 2016 Reporting Tools Kindo UI Telerik functions Crystal Report Platforms Visual Stadio 2010 2014 Education Details January 2014 B E Satara Maharashtra L N B C College of Engg Satara January 2011 Diploma Thergaon Pune Maharashtra M M Polytechnic Dot net developer Skill Details NET Exprience 24 months ASP Exprience 24 months C Exprience 24 months C Exprience 6 months CRYSTAL REPO Exprience 6 months Html Exprience Less than 1 year months Css Exprience Less than 1 year months Entityframewok jquery javascript Exprience Less than 1 year months Mvc Exprience 6 months Sql Exprience 24 monthsCompany Details company Corecode technology description Worked on web application using asp c as well as sql for database and also bootstrap css html for designing created reports using kindo and telerik controls company Inetsoft solution description Created web application using asp and c and also used sql for database \n",
      "-------------------------------------\n"
     ]
    }
   ],
   "source": [
    "cosine_similarities = compute_similarity(documents, keywords)   \n",
    "ranked_resumes = sort_resumes_by_similarity(documents, cosine_similarities)\n",
    "print_top_n_resumes(df, ranked_resumes, n=10)"
   ]
  },
  {
   "cell_type": "code",
   "execution_count": null,
   "metadata": {},
   "outputs": [],
   "source": []
  }
 ],
 "metadata": {
  "kernelspec": {
   "display_name": "rankings-URSdgaLB-py3.12",
   "language": "python",
   "name": "python3"
  },
  "language_info": {
   "codemirror_mode": {
    "name": "ipython",
    "version": 3
   },
   "file_extension": ".py",
   "mimetype": "text/x-python",
   "name": "python",
   "nbconvert_exporter": "python",
   "pygments_lexer": "ipython3",
   "version": "3.12.2"
  }
 },
 "nbformat": 4,
 "nbformat_minor": 2
}
